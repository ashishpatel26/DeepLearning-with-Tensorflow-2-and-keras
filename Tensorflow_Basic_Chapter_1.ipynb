{
  "nbformat": 4,
  "nbformat_minor": 0,
  "metadata": {
    "colab": {
      "name": "Tensorflow Basic Chapter-1.ipynb",
      "provenance": [],
      "authorship_tag": "ABX9TyM9WsK1CRDC4d9e54bvgmU0",
      "include_colab_link": true
    },
    "kernelspec": {
      "name": "python3",
      "display_name": "Python 3"
    }
  },
  "cells": [
    {
      "cell_type": "markdown",
      "metadata": {
        "id": "view-in-github",
        "colab_type": "text"
      },
      "source": [
        "<a href=\"https://colab.research.google.com/github/ashishpatel26/DeepLearning-with-Tensorflow-2-and-keras/blob/master/Tensorflow_Basic_Chapter_1.ipynb\" target=\"_parent\"><img src=\"https://colab.research.google.com/assets/colab-badge.svg\" alt=\"Open In Colab\"/></a>"
      ]
    },
    {
      "cell_type": "markdown",
      "metadata": {
        "id": "SoL2i7zRbMWh",
        "colab_type": "text"
      },
      "source": [
        "## Basic Perceptron\n"
      ]
    },
    {
      "cell_type": "code",
      "metadata": {
        "id": "TfHf4a3pYsoH",
        "colab_type": "code",
        "colab": {
          "base_uri": "https://localhost:8080/",
          "height": 34
        },
        "outputId": "9bc85d72-c9b2-4948-98bd-028be356019f"
      },
      "source": [
        "import tensorflow as tf\n",
        "print(tf.__version__)"
      ],
      "execution_count": 12,
      "outputs": [
        {
          "output_type": "stream",
          "text": [
            "2.2.0\n"
          ],
          "name": "stdout"
        }
      ]
    },
    {
      "cell_type": "code",
      "metadata": {
        "id": "iolqE0bNY7qN",
        "colab_type": "code",
        "colab": {}
      },
      "source": [
        "W = tf.Variable(tf.ones(shape=(2,2)), name='w')\n",
        "b = tf.Variable(tf.zeros(shape=(2)), name='b')"
      ],
      "execution_count": 13,
      "outputs": []
    },
    {
      "cell_type": "code",
      "metadata": {
        "id": "YUlj2l9OZOAt",
        "colab_type": "code",
        "colab": {}
      },
      "source": [
        "@tf.function\n",
        "def model(x):\n",
        "  return W * x + b"
      ],
      "execution_count": 14,
      "outputs": []
    },
    {
      "cell_type": "code",
      "metadata": {
        "id": "b_4B9SryaIaW",
        "colab_type": "code",
        "colab": {}
      },
      "source": [
        "out_a = model([1, 0])"
      ],
      "execution_count": 15,
      "outputs": []
    },
    {
      "cell_type": "code",
      "metadata": {
        "id": "EDexOSykaL3c",
        "colab_type": "code",
        "colab": {
          "base_uri": "https://localhost:8080/",
          "height": 67
        },
        "outputId": "a8472f8e-2534-4726-ade0-b3713bd53c99"
      },
      "source": [
        "print(out_a)"
      ],
      "execution_count": 16,
      "outputs": [
        {
          "output_type": "stream",
          "text": [
            "tf.Tensor(\n",
            "[[1. 0.]\n",
            " [1. 0.]], shape=(2, 2), dtype=float32)\n"
          ],
          "name": "stdout"
        }
      ]
    },
    {
      "cell_type": "markdown",
      "metadata": {
        "id": "b9xPZg_FOdmX",
        "colab_type": "text"
      },
      "source": [
        "## Tensorflow 2.0 Code First Example"
      ]
    },
    {
      "cell_type": "code",
      "metadata": {
        "id": "TEkSfOH8aNhA",
        "colab_type": "code",
        "colab": {}
      },
      "source": [
        "import tensorflow as tf\n",
        "from tensorflow import keras"
      ],
      "execution_count": 17,
      "outputs": []
    },
    {
      "cell_type": "code",
      "metadata": {
        "id": "hqhFgGYNOlUG",
        "colab_type": "code",
        "colab": {}
      },
      "source": [
        "NB_CLASSES = 10\n",
        "RESHAPED = 784"
      ],
      "execution_count": 18,
      "outputs": []
    },
    {
      "cell_type": "code",
      "metadata": {
        "id": "dh2wnKH2OphL",
        "colab_type": "code",
        "colab": {
          "base_uri": "https://localhost:8080/",
          "height": 185
        },
        "outputId": "da7dd44e-3664-4e07-a866-987f927d67f5"
      },
      "source": [
        "model = tf.keras.Sequential()\n",
        "model.add(keras.layers.Dense(NB_CLASSES, input_shape = (RESHAPED,), kernel_initializer='zeros', name='Dense_layer', activation='softmax'))\n",
        "model.summary()"
      ],
      "execution_count": 19,
      "outputs": [
        {
          "output_type": "stream",
          "text": [
            "Model: \"sequential_2\"\n",
            "_________________________________________________________________\n",
            "Layer (type)                 Output Shape              Param #   \n",
            "=================================================================\n",
            "Dense_layer (Dense)          (None, 10)                7850      \n",
            "=================================================================\n",
            "Total params: 7,850\n",
            "Trainable params: 7,850\n",
            "Non-trainable params: 0\n",
            "_________________________________________________________________\n"
          ],
          "name": "stdout"
        }
      ]
    },
    {
      "cell_type": "markdown",
      "metadata": {
        "id": "pv1lhCIgoF_k",
        "colab_type": "text"
      },
      "source": [
        "## MNIST Example with tf2.2.0"
      ]
    },
    {
      "cell_type": "code",
      "metadata": {
        "id": "8gFKOYZJPDtl",
        "colab_type": "code",
        "colab": {}
      },
      "source": [
        "import tensorflow as tf\n",
        "from tensorflow import keras\n",
        "import numpy as np"
      ],
      "execution_count": 20,
      "outputs": []
    },
    {
      "cell_type": "code",
      "metadata": {
        "id": "na_98jWAoOdF",
        "colab_type": "code",
        "colab": {}
      },
      "source": [
        "# Network and Training Parameter\n",
        "EPOCH = 200\n",
        "BATCH_SIZE = 128\n",
        "VERBOSE = 1\n",
        "NB_CLASSES = 10 # number of output = number of digit\n",
        "N_HIDDEN = 128\n",
        "VALIDATION_SPLIT = 0.2 # how much TRAIN is reserved for VALIDATION"
      ],
      "execution_count": 22,
      "outputs": []
    },
    {
      "cell_type": "code",
      "metadata": {
        "id": "ImNOVUNFoar-",
        "colab_type": "code",
        "colab": {}
      },
      "source": [
        "### Loading MNIST Dataset which containing 60000 training and 10000 testing example.\n",
        "mnist = keras.datasets.mnist\n",
        "(X_train,Y_train), (X_test, Y_test) = mnist.load_data()"
      ],
      "execution_count": 44,
      "outputs": []
    },
    {
      "cell_type": "code",
      "metadata": {
        "id": "I-CFy7s5o8ch",
        "colab_type": "code",
        "colab": {}
      },
      "source": [
        "# X train is 60000 rows of 28 X 28 values ==> we are doing reshape into 60000 X 784\n",
        "RESHAPED = 784"
      ],
      "execution_count": 45,
      "outputs": []
    },
    {
      "cell_type": "code",
      "metadata": {
        "id": "oZL_vQqppMKf",
        "colab_type": "code",
        "colab": {}
      },
      "source": [
        "X_train = X_train.reshape(60000, RESHAPED)\n",
        "X_test = X_test.reshape(10000, RESHAPED)\n",
        "X_train = X_train.astype('float32')\n",
        "X_test = X_test.astype('float32')"
      ],
      "execution_count": 46,
      "outputs": []
    },
    {
      "cell_type": "code",
      "metadata": {
        "id": "kMC7wIbSpN6e",
        "colab_type": "code",
        "colab": {}
      },
      "source": [
        "X_train = X_train/255\n",
        "X_test = X_test/255"
      ],
      "execution_count": 47,
      "outputs": []
    },
    {
      "cell_type": "code",
      "metadata": {
        "id": "tNF8NxIKqOXH",
        "colab_type": "code",
        "colab": {
          "base_uri": "https://localhost:8080/",
          "height": 50
        },
        "outputId": "37c000d2-ca04-432a-da79-a43943672229"
      },
      "source": [
        "print(X_train.shape[0],'Train Samples')\n",
        "print(X_test.shape[0],'Test Samples')"
      ],
      "execution_count": 48,
      "outputs": [
        {
          "output_type": "stream",
          "text": [
            "60000 Train Samples\n",
            "10000 Test Samples\n"
          ],
          "name": "stdout"
        }
      ]
    },
    {
      "cell_type": "code",
      "metadata": {
        "id": "mvD2FT2RqVD3",
        "colab_type": "code",
        "colab": {}
      },
      "source": [
        "Y_train = tf.keras.utils.to_categorical(Y_train, NB_CLASSES)\n",
        "Y_test = tf.keras.utils.to_categorical(Y_test, NB_CLASSES)"
      ],
      "execution_count": 51,
      "outputs": []
    },
    {
      "cell_type": "code",
      "metadata": {
        "id": "RaJuDOyxqelX",
        "colab_type": "code",
        "colab": {}
      },
      "source": [
        "# Build a model\n",
        "model = tf.keras.models.Sequential()\n",
        "model.add(keras.layers.Dense(NB_CLASSES, \n",
        "                             input_shape = (RESHAPED, ),\n",
        "                             name = 'dense_layer',\n",
        "                             activation = 'softmax'))\n",
        "model.compile(optimizer='SGD', \n",
        "              loss='categorical_crossentropy',\n",
        "              metrics = ['accuracy'])"
      ],
      "execution_count": 52,
      "outputs": []
    },
    {
      "cell_type": "code",
      "metadata": {
        "id": "1UChOxehsqZx",
        "colab_type": "code",
        "colab": {
          "base_uri": "https://localhost:8080/",
          "height": 1000
        },
        "outputId": "197b2790-9930-4185-f554-6db8ae433ab7"
      },
      "source": [
        "model.fit(X_train,Y_train,\n",
        "          batch_size = BATCH_SIZE,\n",
        "          epochs = EPOCH,\n",
        "          verbose=VERBOSE, validation_split = VALIDATION_SPLIT)"
      ],
      "execution_count": 54,
      "outputs": [
        {
          "output_type": "stream",
          "text": [
            "Epoch 1/200\n",
            "375/375 [==============================] - 1s 2ms/step - loss: 1.3813 - accuracy: 0.6700 - val_loss: 0.8930 - val_accuracy: 0.8261\n",
            "Epoch 2/200\n",
            "375/375 [==============================] - 1s 2ms/step - loss: 0.7920 - accuracy: 0.8287 - val_loss: 0.6565 - val_accuracy: 0.8552\n",
            "Epoch 3/200\n",
            "375/375 [==============================] - 1s 2ms/step - loss: 0.6430 - accuracy: 0.8504 - val_loss: 0.5613 - val_accuracy: 0.8707\n",
            "Epoch 4/200\n",
            "375/375 [==============================] - 1s 2ms/step - loss: 0.5709 - accuracy: 0.8613 - val_loss: 0.5090 - val_accuracy: 0.8752\n",
            "Epoch 5/200\n",
            "375/375 [==============================] - 1s 2ms/step - loss: 0.5270 - accuracy: 0.8681 - val_loss: 0.4750 - val_accuracy: 0.8809\n",
            "Epoch 6/200\n",
            "375/375 [==============================] - 1s 2ms/step - loss: 0.4968 - accuracy: 0.8733 - val_loss: 0.4509 - val_accuracy: 0.8845\n",
            "Epoch 7/200\n",
            "375/375 [==============================] - 1s 2ms/step - loss: 0.4745 - accuracy: 0.8772 - val_loss: 0.4327 - val_accuracy: 0.8882\n",
            "Epoch 8/200\n",
            "375/375 [==============================] - 1s 2ms/step - loss: 0.4571 - accuracy: 0.8808 - val_loss: 0.4188 - val_accuracy: 0.8916\n",
            "Epoch 9/200\n",
            "375/375 [==============================] - 1s 2ms/step - loss: 0.4431 - accuracy: 0.8831 - val_loss: 0.4073 - val_accuracy: 0.8932\n",
            "Epoch 10/200\n",
            "375/375 [==============================] - 1s 2ms/step - loss: 0.4315 - accuracy: 0.8847 - val_loss: 0.3977 - val_accuracy: 0.8959\n",
            "Epoch 11/200\n",
            "375/375 [==============================] - 1s 2ms/step - loss: 0.4218 - accuracy: 0.8863 - val_loss: 0.3897 - val_accuracy: 0.8972\n",
            "Epoch 12/200\n",
            "375/375 [==============================] - 1s 2ms/step - loss: 0.4134 - accuracy: 0.8883 - val_loss: 0.3829 - val_accuracy: 0.8975\n",
            "Epoch 13/200\n",
            "375/375 [==============================] - 1s 2ms/step - loss: 0.4061 - accuracy: 0.8897 - val_loss: 0.3765 - val_accuracy: 0.8999\n",
            "Epoch 14/200\n",
            "375/375 [==============================] - 1s 2ms/step - loss: 0.3996 - accuracy: 0.8913 - val_loss: 0.3712 - val_accuracy: 0.9007\n",
            "Epoch 15/200\n",
            "375/375 [==============================] - 1s 2ms/step - loss: 0.3938 - accuracy: 0.8926 - val_loss: 0.3666 - val_accuracy: 0.9012\n",
            "Epoch 16/200\n",
            "375/375 [==============================] - 1s 2ms/step - loss: 0.3886 - accuracy: 0.8939 - val_loss: 0.3621 - val_accuracy: 0.9034\n",
            "Epoch 17/200\n",
            "375/375 [==============================] - 1s 2ms/step - loss: 0.3839 - accuracy: 0.8947 - val_loss: 0.3584 - val_accuracy: 0.9041\n",
            "Epoch 18/200\n",
            "375/375 [==============================] - 1s 2ms/step - loss: 0.3797 - accuracy: 0.8954 - val_loss: 0.3548 - val_accuracy: 0.9038\n",
            "Epoch 19/200\n",
            "375/375 [==============================] - 1s 2ms/step - loss: 0.3757 - accuracy: 0.8965 - val_loss: 0.3516 - val_accuracy: 0.9050\n",
            "Epoch 20/200\n",
            "375/375 [==============================] - 1s 2ms/step - loss: 0.3721 - accuracy: 0.8972 - val_loss: 0.3487 - val_accuracy: 0.9052\n",
            "Epoch 21/200\n",
            "375/375 [==============================] - 1s 2ms/step - loss: 0.3688 - accuracy: 0.8985 - val_loss: 0.3457 - val_accuracy: 0.9068\n",
            "Epoch 22/200\n",
            "375/375 [==============================] - 1s 2ms/step - loss: 0.3657 - accuracy: 0.8992 - val_loss: 0.3434 - val_accuracy: 0.9068\n",
            "Epoch 23/200\n",
            "375/375 [==============================] - 1s 2ms/step - loss: 0.3628 - accuracy: 0.8994 - val_loss: 0.3409 - val_accuracy: 0.9084\n",
            "Epoch 24/200\n",
            "375/375 [==============================] - 1s 2ms/step - loss: 0.3600 - accuracy: 0.8999 - val_loss: 0.3386 - val_accuracy: 0.9086\n",
            "Epoch 25/200\n",
            "375/375 [==============================] - 1s 2ms/step - loss: 0.3575 - accuracy: 0.9006 - val_loss: 0.3366 - val_accuracy: 0.9087\n",
            "Epoch 26/200\n",
            "375/375 [==============================] - 1s 2ms/step - loss: 0.3552 - accuracy: 0.9013 - val_loss: 0.3348 - val_accuracy: 0.9093\n",
            "Epoch 27/200\n",
            "375/375 [==============================] - 1s 2ms/step - loss: 0.3529 - accuracy: 0.9017 - val_loss: 0.3328 - val_accuracy: 0.9095\n",
            "Epoch 28/200\n",
            "375/375 [==============================] - 1s 2ms/step - loss: 0.3507 - accuracy: 0.9023 - val_loss: 0.3312 - val_accuracy: 0.9083\n",
            "Epoch 29/200\n",
            "375/375 [==============================] - 1s 2ms/step - loss: 0.3487 - accuracy: 0.9028 - val_loss: 0.3295 - val_accuracy: 0.9101\n",
            "Epoch 30/200\n",
            "375/375 [==============================] - 1s 2ms/step - loss: 0.3468 - accuracy: 0.9035 - val_loss: 0.3280 - val_accuracy: 0.9093\n",
            "Epoch 31/200\n",
            "375/375 [==============================] - 1s 2ms/step - loss: 0.3450 - accuracy: 0.9033 - val_loss: 0.3265 - val_accuracy: 0.9096\n",
            "Epoch 32/200\n",
            "375/375 [==============================] - 1s 2ms/step - loss: 0.3432 - accuracy: 0.9039 - val_loss: 0.3251 - val_accuracy: 0.9109\n",
            "Epoch 33/200\n",
            "375/375 [==============================] - 1s 2ms/step - loss: 0.3416 - accuracy: 0.9045 - val_loss: 0.3239 - val_accuracy: 0.9116\n",
            "Epoch 34/200\n",
            "375/375 [==============================] - 1s 2ms/step - loss: 0.3400 - accuracy: 0.9047 - val_loss: 0.3225 - val_accuracy: 0.9120\n",
            "Epoch 35/200\n",
            "375/375 [==============================] - 1s 2ms/step - loss: 0.3385 - accuracy: 0.9050 - val_loss: 0.3213 - val_accuracy: 0.9116\n",
            "Epoch 36/200\n",
            "375/375 [==============================] - 1s 2ms/step - loss: 0.3370 - accuracy: 0.9053 - val_loss: 0.3200 - val_accuracy: 0.9128\n",
            "Epoch 37/200\n",
            "375/375 [==============================] - 1s 2ms/step - loss: 0.3357 - accuracy: 0.9059 - val_loss: 0.3189 - val_accuracy: 0.9124\n",
            "Epoch 38/200\n",
            "375/375 [==============================] - 1s 2ms/step - loss: 0.3343 - accuracy: 0.9060 - val_loss: 0.3179 - val_accuracy: 0.9136\n",
            "Epoch 39/200\n",
            "375/375 [==============================] - 1s 2ms/step - loss: 0.3330 - accuracy: 0.9068 - val_loss: 0.3170 - val_accuracy: 0.9119\n",
            "Epoch 40/200\n",
            "375/375 [==============================] - 1s 2ms/step - loss: 0.3318 - accuracy: 0.9070 - val_loss: 0.3158 - val_accuracy: 0.9124\n",
            "Epoch 41/200\n",
            "375/375 [==============================] - 1s 2ms/step - loss: 0.3306 - accuracy: 0.9071 - val_loss: 0.3149 - val_accuracy: 0.9124\n",
            "Epoch 42/200\n",
            "375/375 [==============================] - 1s 2ms/step - loss: 0.3295 - accuracy: 0.9076 - val_loss: 0.3140 - val_accuracy: 0.9135\n",
            "Epoch 43/200\n",
            "375/375 [==============================] - 1s 2ms/step - loss: 0.3284 - accuracy: 0.9080 - val_loss: 0.3131 - val_accuracy: 0.9137\n",
            "Epoch 44/200\n",
            "375/375 [==============================] - 1s 2ms/step - loss: 0.3272 - accuracy: 0.9082 - val_loss: 0.3122 - val_accuracy: 0.9139\n",
            "Epoch 45/200\n",
            "375/375 [==============================] - 1s 2ms/step - loss: 0.3262 - accuracy: 0.9087 - val_loss: 0.3114 - val_accuracy: 0.9137\n",
            "Epoch 46/200\n",
            "375/375 [==============================] - 1s 2ms/step - loss: 0.3252 - accuracy: 0.9088 - val_loss: 0.3106 - val_accuracy: 0.9146\n",
            "Epoch 47/200\n",
            "375/375 [==============================] - 1s 2ms/step - loss: 0.3243 - accuracy: 0.9094 - val_loss: 0.3099 - val_accuracy: 0.9140\n",
            "Epoch 48/200\n",
            "375/375 [==============================] - 1s 2ms/step - loss: 0.3233 - accuracy: 0.9094 - val_loss: 0.3092 - val_accuracy: 0.9145\n",
            "Epoch 49/200\n",
            "375/375 [==============================] - 1s 2ms/step - loss: 0.3224 - accuracy: 0.9097 - val_loss: 0.3084 - val_accuracy: 0.9139\n",
            "Epoch 50/200\n",
            "375/375 [==============================] - 1s 2ms/step - loss: 0.3215 - accuracy: 0.9099 - val_loss: 0.3077 - val_accuracy: 0.9145\n",
            "Epoch 51/200\n",
            "375/375 [==============================] - 1s 2ms/step - loss: 0.3206 - accuracy: 0.9104 - val_loss: 0.3070 - val_accuracy: 0.9146\n",
            "Epoch 52/200\n",
            "375/375 [==============================] - 1s 2ms/step - loss: 0.3198 - accuracy: 0.9105 - val_loss: 0.3064 - val_accuracy: 0.9147\n",
            "Epoch 53/200\n",
            "375/375 [==============================] - 1s 2ms/step - loss: 0.3190 - accuracy: 0.9107 - val_loss: 0.3057 - val_accuracy: 0.9154\n",
            "Epoch 54/200\n",
            "375/375 [==============================] - 1s 2ms/step - loss: 0.3182 - accuracy: 0.9113 - val_loss: 0.3051 - val_accuracy: 0.9153\n",
            "Epoch 55/200\n",
            "375/375 [==============================] - 1s 2ms/step - loss: 0.3174 - accuracy: 0.9113 - val_loss: 0.3045 - val_accuracy: 0.9157\n",
            "Epoch 56/200\n",
            "375/375 [==============================] - 1s 2ms/step - loss: 0.3167 - accuracy: 0.9112 - val_loss: 0.3040 - val_accuracy: 0.9160\n",
            "Epoch 57/200\n",
            "375/375 [==============================] - 1s 2ms/step - loss: 0.3160 - accuracy: 0.9116 - val_loss: 0.3033 - val_accuracy: 0.9161\n",
            "Epoch 58/200\n",
            "375/375 [==============================] - 1s 2ms/step - loss: 0.3152 - accuracy: 0.9115 - val_loss: 0.3028 - val_accuracy: 0.9160\n",
            "Epoch 59/200\n",
            "375/375 [==============================] - 1s 2ms/step - loss: 0.3146 - accuracy: 0.9119 - val_loss: 0.3023 - val_accuracy: 0.9159\n",
            "Epoch 60/200\n",
            "375/375 [==============================] - 1s 2ms/step - loss: 0.3138 - accuracy: 0.9121 - val_loss: 0.3017 - val_accuracy: 0.9163\n",
            "Epoch 61/200\n",
            "375/375 [==============================] - 1s 2ms/step - loss: 0.3132 - accuracy: 0.9124 - val_loss: 0.3013 - val_accuracy: 0.9162\n",
            "Epoch 62/200\n",
            "375/375 [==============================] - 1s 2ms/step - loss: 0.3125 - accuracy: 0.9126 - val_loss: 0.3008 - val_accuracy: 0.9164\n",
            "Epoch 63/200\n",
            "375/375 [==============================] - 1s 2ms/step - loss: 0.3119 - accuracy: 0.9128 - val_loss: 0.3002 - val_accuracy: 0.9165\n",
            "Epoch 64/200\n",
            "375/375 [==============================] - 1s 2ms/step - loss: 0.3113 - accuracy: 0.9132 - val_loss: 0.2998 - val_accuracy: 0.9168\n",
            "Epoch 65/200\n",
            "375/375 [==============================] - 1s 2ms/step - loss: 0.3107 - accuracy: 0.9130 - val_loss: 0.2994 - val_accuracy: 0.9171\n",
            "Epoch 66/200\n",
            "375/375 [==============================] - 1s 2ms/step - loss: 0.3101 - accuracy: 0.9132 - val_loss: 0.2988 - val_accuracy: 0.9168\n",
            "Epoch 67/200\n",
            "375/375 [==============================] - 1s 2ms/step - loss: 0.3095 - accuracy: 0.9136 - val_loss: 0.2985 - val_accuracy: 0.9168\n",
            "Epoch 68/200\n",
            "375/375 [==============================] - 1s 2ms/step - loss: 0.3090 - accuracy: 0.9136 - val_loss: 0.2981 - val_accuracy: 0.9173\n",
            "Epoch 69/200\n",
            "375/375 [==============================] - 1s 2ms/step - loss: 0.3084 - accuracy: 0.9141 - val_loss: 0.2977 - val_accuracy: 0.9172\n",
            "Epoch 70/200\n",
            "375/375 [==============================] - 1s 2ms/step - loss: 0.3079 - accuracy: 0.9140 - val_loss: 0.2972 - val_accuracy: 0.9173\n",
            "Epoch 71/200\n",
            "375/375 [==============================] - 1s 2ms/step - loss: 0.3073 - accuracy: 0.9143 - val_loss: 0.2968 - val_accuracy: 0.9172\n",
            "Epoch 72/200\n",
            "375/375 [==============================] - 1s 2ms/step - loss: 0.3068 - accuracy: 0.9144 - val_loss: 0.2964 - val_accuracy: 0.9172\n",
            "Epoch 73/200\n",
            "375/375 [==============================] - 1s 2ms/step - loss: 0.3063 - accuracy: 0.9146 - val_loss: 0.2962 - val_accuracy: 0.9175\n",
            "Epoch 74/200\n",
            "375/375 [==============================] - 1s 2ms/step - loss: 0.3059 - accuracy: 0.9146 - val_loss: 0.2956 - val_accuracy: 0.9175\n",
            "Epoch 75/200\n",
            "375/375 [==============================] - 1s 2ms/step - loss: 0.3053 - accuracy: 0.9147 - val_loss: 0.2952 - val_accuracy: 0.9175\n",
            "Epoch 76/200\n",
            "375/375 [==============================] - 1s 2ms/step - loss: 0.3048 - accuracy: 0.9149 - val_loss: 0.2949 - val_accuracy: 0.9175\n",
            "Epoch 77/200\n",
            "375/375 [==============================] - 1s 2ms/step - loss: 0.3044 - accuracy: 0.9151 - val_loss: 0.2946 - val_accuracy: 0.9175\n",
            "Epoch 78/200\n",
            "375/375 [==============================] - 1s 2ms/step - loss: 0.3039 - accuracy: 0.9152 - val_loss: 0.2942 - val_accuracy: 0.9177\n",
            "Epoch 79/200\n",
            "375/375 [==============================] - 1s 2ms/step - loss: 0.3034 - accuracy: 0.9153 - val_loss: 0.2940 - val_accuracy: 0.9178\n",
            "Epoch 80/200\n",
            "375/375 [==============================] - 1s 2ms/step - loss: 0.3030 - accuracy: 0.9154 - val_loss: 0.2937 - val_accuracy: 0.9178\n",
            "Epoch 81/200\n",
            "375/375 [==============================] - 1s 2ms/step - loss: 0.3026 - accuracy: 0.9155 - val_loss: 0.2932 - val_accuracy: 0.9182\n",
            "Epoch 82/200\n",
            "375/375 [==============================] - 1s 2ms/step - loss: 0.3021 - accuracy: 0.9156 - val_loss: 0.2929 - val_accuracy: 0.9187\n",
            "Epoch 83/200\n",
            "375/375 [==============================] - 1s 2ms/step - loss: 0.3017 - accuracy: 0.9159 - val_loss: 0.2926 - val_accuracy: 0.9182\n",
            "Epoch 84/200\n",
            "375/375 [==============================] - 1s 2ms/step - loss: 0.3013 - accuracy: 0.9160 - val_loss: 0.2923 - val_accuracy: 0.9187\n",
            "Epoch 85/200\n",
            "375/375 [==============================] - 1s 2ms/step - loss: 0.3009 - accuracy: 0.9161 - val_loss: 0.2919 - val_accuracy: 0.9187\n",
            "Epoch 86/200\n",
            "375/375 [==============================] - 1s 2ms/step - loss: 0.3005 - accuracy: 0.9163 - val_loss: 0.2917 - val_accuracy: 0.9187\n",
            "Epoch 87/200\n",
            "375/375 [==============================] - 1s 2ms/step - loss: 0.3001 - accuracy: 0.9164 - val_loss: 0.2914 - val_accuracy: 0.9188\n",
            "Epoch 88/200\n",
            "375/375 [==============================] - 1s 2ms/step - loss: 0.2997 - accuracy: 0.9165 - val_loss: 0.2911 - val_accuracy: 0.9193\n",
            "Epoch 89/200\n",
            "375/375 [==============================] - 1s 2ms/step - loss: 0.2993 - accuracy: 0.9167 - val_loss: 0.2910 - val_accuracy: 0.9187\n",
            "Epoch 90/200\n",
            "375/375 [==============================] - 1s 2ms/step - loss: 0.2990 - accuracy: 0.9164 - val_loss: 0.2906 - val_accuracy: 0.9185\n",
            "Epoch 91/200\n",
            "375/375 [==============================] - 1s 2ms/step - loss: 0.2986 - accuracy: 0.9165 - val_loss: 0.2903 - val_accuracy: 0.9192\n",
            "Epoch 92/200\n",
            "375/375 [==============================] - 1s 2ms/step - loss: 0.2982 - accuracy: 0.9166 - val_loss: 0.2901 - val_accuracy: 0.9195\n",
            "Epoch 93/200\n",
            "375/375 [==============================] - 1s 2ms/step - loss: 0.2979 - accuracy: 0.9170 - val_loss: 0.2898 - val_accuracy: 0.9195\n",
            "Epoch 94/200\n",
            "375/375 [==============================] - 1s 2ms/step - loss: 0.2975 - accuracy: 0.9167 - val_loss: 0.2895 - val_accuracy: 0.9193\n",
            "Epoch 95/200\n",
            "375/375 [==============================] - 1s 2ms/step - loss: 0.2972 - accuracy: 0.9173 - val_loss: 0.2893 - val_accuracy: 0.9194\n",
            "Epoch 96/200\n",
            "375/375 [==============================] - 1s 2ms/step - loss: 0.2968 - accuracy: 0.9171 - val_loss: 0.2890 - val_accuracy: 0.9196\n",
            "Epoch 97/200\n",
            "375/375 [==============================] - 1s 2ms/step - loss: 0.2965 - accuracy: 0.9174 - val_loss: 0.2889 - val_accuracy: 0.9193\n",
            "Epoch 98/200\n",
            "375/375 [==============================] - 1s 2ms/step - loss: 0.2962 - accuracy: 0.9172 - val_loss: 0.2886 - val_accuracy: 0.9192\n",
            "Epoch 99/200\n",
            "375/375 [==============================] - 1s 2ms/step - loss: 0.2959 - accuracy: 0.9175 - val_loss: 0.2883 - val_accuracy: 0.9197\n",
            "Epoch 100/200\n",
            "375/375 [==============================] - 1s 2ms/step - loss: 0.2955 - accuracy: 0.9175 - val_loss: 0.2880 - val_accuracy: 0.9198\n",
            "Epoch 101/200\n",
            "375/375 [==============================] - 1s 2ms/step - loss: 0.2952 - accuracy: 0.9176 - val_loss: 0.2878 - val_accuracy: 0.9198\n",
            "Epoch 102/200\n",
            "375/375 [==============================] - 1s 2ms/step - loss: 0.2949 - accuracy: 0.9177 - val_loss: 0.2876 - val_accuracy: 0.9197\n",
            "Epoch 103/200\n",
            "375/375 [==============================] - 1s 2ms/step - loss: 0.2946 - accuracy: 0.9176 - val_loss: 0.2875 - val_accuracy: 0.9197\n",
            "Epoch 104/200\n",
            "375/375 [==============================] - 1s 2ms/step - loss: 0.2943 - accuracy: 0.9177 - val_loss: 0.2872 - val_accuracy: 0.9196\n",
            "Epoch 105/200\n",
            "375/375 [==============================] - 1s 2ms/step - loss: 0.2940 - accuracy: 0.9179 - val_loss: 0.2871 - val_accuracy: 0.9193\n",
            "Epoch 106/200\n",
            "375/375 [==============================] - 1s 2ms/step - loss: 0.2937 - accuracy: 0.9183 - val_loss: 0.2869 - val_accuracy: 0.9200\n",
            "Epoch 107/200\n",
            "375/375 [==============================] - 1s 2ms/step - loss: 0.2934 - accuracy: 0.9181 - val_loss: 0.2866 - val_accuracy: 0.9202\n",
            "Epoch 108/200\n",
            "375/375 [==============================] - 1s 2ms/step - loss: 0.2931 - accuracy: 0.9181 - val_loss: 0.2864 - val_accuracy: 0.9203\n",
            "Epoch 109/200\n",
            "375/375 [==============================] - 1s 2ms/step - loss: 0.2928 - accuracy: 0.9183 - val_loss: 0.2862 - val_accuracy: 0.9204\n",
            "Epoch 110/200\n",
            "375/375 [==============================] - 1s 2ms/step - loss: 0.2926 - accuracy: 0.9184 - val_loss: 0.2860 - val_accuracy: 0.9205\n",
            "Epoch 111/200\n",
            "375/375 [==============================] - 1s 2ms/step - loss: 0.2922 - accuracy: 0.9184 - val_loss: 0.2858 - val_accuracy: 0.9206\n",
            "Epoch 112/200\n",
            "375/375 [==============================] - 1s 2ms/step - loss: 0.2920 - accuracy: 0.9187 - val_loss: 0.2856 - val_accuracy: 0.9201\n",
            "Epoch 113/200\n",
            "375/375 [==============================] - 1s 2ms/step - loss: 0.2917 - accuracy: 0.9187 - val_loss: 0.2855 - val_accuracy: 0.9207\n",
            "Epoch 114/200\n",
            "375/375 [==============================] - 1s 2ms/step - loss: 0.2914 - accuracy: 0.9189 - val_loss: 0.2852 - val_accuracy: 0.9202\n",
            "Epoch 115/200\n",
            "375/375 [==============================] - 1s 2ms/step - loss: 0.2912 - accuracy: 0.9188 - val_loss: 0.2850 - val_accuracy: 0.9206\n",
            "Epoch 116/200\n",
            "375/375 [==============================] - 1s 2ms/step - loss: 0.2909 - accuracy: 0.9188 - val_loss: 0.2849 - val_accuracy: 0.9201\n",
            "Epoch 117/200\n",
            "375/375 [==============================] - 1s 2ms/step - loss: 0.2907 - accuracy: 0.9188 - val_loss: 0.2848 - val_accuracy: 0.9200\n",
            "Epoch 118/200\n",
            "375/375 [==============================] - 1s 2ms/step - loss: 0.2904 - accuracy: 0.9190 - val_loss: 0.2845 - val_accuracy: 0.9203\n",
            "Epoch 119/200\n",
            "375/375 [==============================] - 1s 2ms/step - loss: 0.2902 - accuracy: 0.9192 - val_loss: 0.2844 - val_accuracy: 0.9202\n",
            "Epoch 120/200\n",
            "375/375 [==============================] - 1s 2ms/step - loss: 0.2899 - accuracy: 0.9191 - val_loss: 0.2842 - val_accuracy: 0.9207\n",
            "Epoch 121/200\n",
            "375/375 [==============================] - 1s 2ms/step - loss: 0.2897 - accuracy: 0.9191 - val_loss: 0.2840 - val_accuracy: 0.9204\n",
            "Epoch 122/200\n",
            "375/375 [==============================] - 1s 2ms/step - loss: 0.2894 - accuracy: 0.9193 - val_loss: 0.2839 - val_accuracy: 0.9212\n",
            "Epoch 123/200\n",
            "375/375 [==============================] - 1s 2ms/step - loss: 0.2892 - accuracy: 0.9191 - val_loss: 0.2836 - val_accuracy: 0.9206\n",
            "Epoch 124/200\n",
            "375/375 [==============================] - 1s 2ms/step - loss: 0.2890 - accuracy: 0.9193 - val_loss: 0.2836 - val_accuracy: 0.9208\n",
            "Epoch 125/200\n",
            "375/375 [==============================] - 1s 2ms/step - loss: 0.2887 - accuracy: 0.9195 - val_loss: 0.2834 - val_accuracy: 0.9211\n",
            "Epoch 126/200\n",
            "375/375 [==============================] - 1s 2ms/step - loss: 0.2885 - accuracy: 0.9194 - val_loss: 0.2833 - val_accuracy: 0.9211\n",
            "Epoch 127/200\n",
            "375/375 [==============================] - 1s 2ms/step - loss: 0.2882 - accuracy: 0.9195 - val_loss: 0.2830 - val_accuracy: 0.9212\n",
            "Epoch 128/200\n",
            "375/375 [==============================] - 1s 2ms/step - loss: 0.2880 - accuracy: 0.9195 - val_loss: 0.2829 - val_accuracy: 0.9208\n",
            "Epoch 129/200\n",
            "375/375 [==============================] - 1s 2ms/step - loss: 0.2878 - accuracy: 0.9195 - val_loss: 0.2828 - val_accuracy: 0.9210\n",
            "Epoch 130/200\n",
            "375/375 [==============================] - 1s 2ms/step - loss: 0.2876 - accuracy: 0.9198 - val_loss: 0.2826 - val_accuracy: 0.9210\n",
            "Epoch 131/200\n",
            "375/375 [==============================] - 1s 2ms/step - loss: 0.2874 - accuracy: 0.9197 - val_loss: 0.2825 - val_accuracy: 0.9213\n",
            "Epoch 132/200\n",
            "375/375 [==============================] - 1s 2ms/step - loss: 0.2872 - accuracy: 0.9197 - val_loss: 0.2823 - val_accuracy: 0.9211\n",
            "Epoch 133/200\n",
            "375/375 [==============================] - 1s 2ms/step - loss: 0.2869 - accuracy: 0.9199 - val_loss: 0.2823 - val_accuracy: 0.9210\n",
            "Epoch 134/200\n",
            "375/375 [==============================] - 1s 2ms/step - loss: 0.2867 - accuracy: 0.9200 - val_loss: 0.2821 - val_accuracy: 0.9213\n",
            "Epoch 135/200\n",
            "375/375 [==============================] - 1s 2ms/step - loss: 0.2865 - accuracy: 0.9199 - val_loss: 0.2819 - val_accuracy: 0.9206\n",
            "Epoch 136/200\n",
            "375/375 [==============================] - 1s 2ms/step - loss: 0.2863 - accuracy: 0.9201 - val_loss: 0.2818 - val_accuracy: 0.9207\n",
            "Epoch 137/200\n",
            "375/375 [==============================] - 1s 2ms/step - loss: 0.2861 - accuracy: 0.9203 - val_loss: 0.2816 - val_accuracy: 0.9214\n",
            "Epoch 138/200\n",
            "375/375 [==============================] - 1s 2ms/step - loss: 0.2859 - accuracy: 0.9201 - val_loss: 0.2815 - val_accuracy: 0.9208\n",
            "Epoch 139/200\n",
            "375/375 [==============================] - 1s 2ms/step - loss: 0.2857 - accuracy: 0.9202 - val_loss: 0.2814 - val_accuracy: 0.9211\n",
            "Epoch 140/200\n",
            "375/375 [==============================] - 1s 2ms/step - loss: 0.2855 - accuracy: 0.9206 - val_loss: 0.2813 - val_accuracy: 0.9215\n",
            "Epoch 141/200\n",
            "375/375 [==============================] - 1s 2ms/step - loss: 0.2853 - accuracy: 0.9208 - val_loss: 0.2811 - val_accuracy: 0.9214\n",
            "Epoch 142/200\n",
            "375/375 [==============================] - 1s 2ms/step - loss: 0.2851 - accuracy: 0.9205 - val_loss: 0.2809 - val_accuracy: 0.9209\n",
            "Epoch 143/200\n",
            "375/375 [==============================] - 1s 2ms/step - loss: 0.2849 - accuracy: 0.9206 - val_loss: 0.2808 - val_accuracy: 0.9217\n",
            "Epoch 144/200\n",
            "375/375 [==============================] - 1s 2ms/step - loss: 0.2847 - accuracy: 0.9206 - val_loss: 0.2807 - val_accuracy: 0.9212\n",
            "Epoch 145/200\n",
            "375/375 [==============================] - 1s 2ms/step - loss: 0.2845 - accuracy: 0.9211 - val_loss: 0.2806 - val_accuracy: 0.9221\n",
            "Epoch 146/200\n",
            "375/375 [==============================] - 1s 2ms/step - loss: 0.2843 - accuracy: 0.9207 - val_loss: 0.2804 - val_accuracy: 0.9212\n",
            "Epoch 147/200\n",
            "375/375 [==============================] - 1s 2ms/step - loss: 0.2841 - accuracy: 0.9207 - val_loss: 0.2805 - val_accuracy: 0.9218\n",
            "Epoch 148/200\n",
            "375/375 [==============================] - 1s 2ms/step - loss: 0.2840 - accuracy: 0.9209 - val_loss: 0.2802 - val_accuracy: 0.9218\n",
            "Epoch 149/200\n",
            "375/375 [==============================] - 1s 2ms/step - loss: 0.2838 - accuracy: 0.9208 - val_loss: 0.2802 - val_accuracy: 0.9222\n",
            "Epoch 150/200\n",
            "375/375 [==============================] - 1s 2ms/step - loss: 0.2836 - accuracy: 0.9210 - val_loss: 0.2801 - val_accuracy: 0.9218\n",
            "Epoch 151/200\n",
            "375/375 [==============================] - 1s 2ms/step - loss: 0.2834 - accuracy: 0.9213 - val_loss: 0.2799 - val_accuracy: 0.9212\n",
            "Epoch 152/200\n",
            "375/375 [==============================] - 1s 2ms/step - loss: 0.2832 - accuracy: 0.9210 - val_loss: 0.2797 - val_accuracy: 0.9215\n",
            "Epoch 153/200\n",
            "375/375 [==============================] - 1s 2ms/step - loss: 0.2831 - accuracy: 0.9211 - val_loss: 0.2796 - val_accuracy: 0.9225\n",
            "Epoch 154/200\n",
            "375/375 [==============================] - 1s 2ms/step - loss: 0.2829 - accuracy: 0.9210 - val_loss: 0.2796 - val_accuracy: 0.9216\n",
            "Epoch 155/200\n",
            "375/375 [==============================] - 1s 2ms/step - loss: 0.2827 - accuracy: 0.9211 - val_loss: 0.2795 - val_accuracy: 0.9222\n",
            "Epoch 156/200\n",
            "375/375 [==============================] - 1s 2ms/step - loss: 0.2825 - accuracy: 0.9213 - val_loss: 0.2793 - val_accuracy: 0.9222\n",
            "Epoch 157/200\n",
            "375/375 [==============================] - 1s 2ms/step - loss: 0.2824 - accuracy: 0.9212 - val_loss: 0.2792 - val_accuracy: 0.9218\n",
            "Epoch 158/200\n",
            "375/375 [==============================] - 1s 2ms/step - loss: 0.2822 - accuracy: 0.9214 - val_loss: 0.2791 - val_accuracy: 0.9218\n",
            "Epoch 159/200\n",
            "375/375 [==============================] - 1s 2ms/step - loss: 0.2820 - accuracy: 0.9214 - val_loss: 0.2791 - val_accuracy: 0.9219\n",
            "Epoch 160/200\n",
            "375/375 [==============================] - 1s 2ms/step - loss: 0.2818 - accuracy: 0.9216 - val_loss: 0.2789 - val_accuracy: 0.9224\n",
            "Epoch 161/200\n",
            "375/375 [==============================] - 1s 2ms/step - loss: 0.2817 - accuracy: 0.9214 - val_loss: 0.2788 - val_accuracy: 0.9227\n",
            "Epoch 162/200\n",
            "375/375 [==============================] - 1s 2ms/step - loss: 0.2815 - accuracy: 0.9216 - val_loss: 0.2787 - val_accuracy: 0.9219\n",
            "Epoch 163/200\n",
            "375/375 [==============================] - 1s 2ms/step - loss: 0.2814 - accuracy: 0.9216 - val_loss: 0.2786 - val_accuracy: 0.9218\n",
            "Epoch 164/200\n",
            "375/375 [==============================] - 1s 2ms/step - loss: 0.2812 - accuracy: 0.9216 - val_loss: 0.2785 - val_accuracy: 0.9222\n",
            "Epoch 165/200\n",
            "375/375 [==============================] - 1s 2ms/step - loss: 0.2811 - accuracy: 0.9218 - val_loss: 0.2784 - val_accuracy: 0.9218\n",
            "Epoch 166/200\n",
            "375/375 [==============================] - 1s 2ms/step - loss: 0.2809 - accuracy: 0.9220 - val_loss: 0.2784 - val_accuracy: 0.9220\n",
            "Epoch 167/200\n",
            "375/375 [==============================] - 1s 2ms/step - loss: 0.2808 - accuracy: 0.9216 - val_loss: 0.2782 - val_accuracy: 0.9221\n",
            "Epoch 168/200\n",
            "375/375 [==============================] - 1s 2ms/step - loss: 0.2806 - accuracy: 0.9221 - val_loss: 0.2782 - val_accuracy: 0.9226\n",
            "Epoch 169/200\n",
            "375/375 [==============================] - 1s 2ms/step - loss: 0.2804 - accuracy: 0.9220 - val_loss: 0.2780 - val_accuracy: 0.9220\n",
            "Epoch 170/200\n",
            "375/375 [==============================] - 1s 2ms/step - loss: 0.2803 - accuracy: 0.9220 - val_loss: 0.2779 - val_accuracy: 0.9222\n",
            "Epoch 171/200\n",
            "375/375 [==============================] - 1s 2ms/step - loss: 0.2801 - accuracy: 0.9221 - val_loss: 0.2778 - val_accuracy: 0.9226\n",
            "Epoch 172/200\n",
            "375/375 [==============================] - 1s 2ms/step - loss: 0.2799 - accuracy: 0.9219 - val_loss: 0.2778 - val_accuracy: 0.9218\n",
            "Epoch 173/200\n",
            "375/375 [==============================] - 1s 2ms/step - loss: 0.2798 - accuracy: 0.9225 - val_loss: 0.2776 - val_accuracy: 0.9226\n",
            "Epoch 174/200\n",
            "375/375 [==============================] - 1s 2ms/step - loss: 0.2797 - accuracy: 0.9220 - val_loss: 0.2776 - val_accuracy: 0.9225\n",
            "Epoch 175/200\n",
            "375/375 [==============================] - 1s 2ms/step - loss: 0.2795 - accuracy: 0.9221 - val_loss: 0.2775 - val_accuracy: 0.9222\n",
            "Epoch 176/200\n",
            "375/375 [==============================] - 1s 2ms/step - loss: 0.2794 - accuracy: 0.9224 - val_loss: 0.2774 - val_accuracy: 0.9225\n",
            "Epoch 177/200\n",
            "375/375 [==============================] - 1s 2ms/step - loss: 0.2792 - accuracy: 0.9223 - val_loss: 0.2773 - val_accuracy: 0.9227\n",
            "Epoch 178/200\n",
            "375/375 [==============================] - 1s 2ms/step - loss: 0.2791 - accuracy: 0.9225 - val_loss: 0.2772 - val_accuracy: 0.9227\n",
            "Epoch 179/200\n",
            "375/375 [==============================] - 1s 2ms/step - loss: 0.2790 - accuracy: 0.9226 - val_loss: 0.2772 - val_accuracy: 0.9227\n",
            "Epoch 180/200\n",
            "375/375 [==============================] - 1s 2ms/step - loss: 0.2788 - accuracy: 0.9222 - val_loss: 0.2771 - val_accuracy: 0.9226\n",
            "Epoch 181/200\n",
            "375/375 [==============================] - 1s 2ms/step - loss: 0.2787 - accuracy: 0.9225 - val_loss: 0.2770 - val_accuracy: 0.9228\n",
            "Epoch 182/200\n",
            "375/375 [==============================] - 1s 2ms/step - loss: 0.2785 - accuracy: 0.9224 - val_loss: 0.2769 - val_accuracy: 0.9225\n",
            "Epoch 183/200\n",
            "375/375 [==============================] - 1s 2ms/step - loss: 0.2784 - accuracy: 0.9227 - val_loss: 0.2768 - val_accuracy: 0.9228\n",
            "Epoch 184/200\n",
            "375/375 [==============================] - 1s 2ms/step - loss: 0.2783 - accuracy: 0.9225 - val_loss: 0.2768 - val_accuracy: 0.9226\n",
            "Epoch 185/200\n",
            "375/375 [==============================] - 1s 2ms/step - loss: 0.2781 - accuracy: 0.9225 - val_loss: 0.2767 - val_accuracy: 0.9224\n",
            "Epoch 186/200\n",
            "375/375 [==============================] - 1s 2ms/step - loss: 0.2780 - accuracy: 0.9228 - val_loss: 0.2766 - val_accuracy: 0.9230\n",
            "Epoch 187/200\n",
            "375/375 [==============================] - 1s 2ms/step - loss: 0.2779 - accuracy: 0.9230 - val_loss: 0.2765 - val_accuracy: 0.9234\n",
            "Epoch 188/200\n",
            "375/375 [==============================] - 1s 2ms/step - loss: 0.2777 - accuracy: 0.9225 - val_loss: 0.2764 - val_accuracy: 0.9231\n",
            "Epoch 189/200\n",
            "375/375 [==============================] - 1s 2ms/step - loss: 0.2776 - accuracy: 0.9228 - val_loss: 0.2764 - val_accuracy: 0.9231\n",
            "Epoch 190/200\n",
            "375/375 [==============================] - 1s 2ms/step - loss: 0.2775 - accuracy: 0.9226 - val_loss: 0.2763 - val_accuracy: 0.9230\n",
            "Epoch 191/200\n",
            "375/375 [==============================] - 1s 2ms/step - loss: 0.2774 - accuracy: 0.9230 - val_loss: 0.2762 - val_accuracy: 0.9227\n",
            "Epoch 192/200\n",
            "375/375 [==============================] - 1s 2ms/step - loss: 0.2772 - accuracy: 0.9228 - val_loss: 0.2761 - val_accuracy: 0.9227\n",
            "Epoch 193/200\n",
            "375/375 [==============================] - 1s 2ms/step - loss: 0.2771 - accuracy: 0.9230 - val_loss: 0.2760 - val_accuracy: 0.9227\n",
            "Epoch 194/200\n",
            "375/375 [==============================] - 1s 2ms/step - loss: 0.2769 - accuracy: 0.9228 - val_loss: 0.2759 - val_accuracy: 0.9224\n",
            "Epoch 195/200\n",
            "375/375 [==============================] - 1s 2ms/step - loss: 0.2768 - accuracy: 0.9227 - val_loss: 0.2759 - val_accuracy: 0.9224\n",
            "Epoch 196/200\n",
            "375/375 [==============================] - 1s 2ms/step - loss: 0.2767 - accuracy: 0.9230 - val_loss: 0.2758 - val_accuracy: 0.9231\n",
            "Epoch 197/200\n",
            "375/375 [==============================] - 1s 2ms/step - loss: 0.2766 - accuracy: 0.9229 - val_loss: 0.2758 - val_accuracy: 0.9235\n",
            "Epoch 198/200\n",
            "375/375 [==============================] - 1s 2ms/step - loss: 0.2764 - accuracy: 0.9234 - val_loss: 0.2758 - val_accuracy: 0.9234\n",
            "Epoch 199/200\n",
            "375/375 [==============================] - 1s 2ms/step - loss: 0.2764 - accuracy: 0.9230 - val_loss: 0.2756 - val_accuracy: 0.9233\n",
            "Epoch 200/200\n",
            "375/375 [==============================] - 1s 2ms/step - loss: 0.2762 - accuracy: 0.9228 - val_loss: 0.2756 - val_accuracy: 0.9229\n"
          ],
          "name": "stdout"
        },
        {
          "output_type": "execute_result",
          "data": {
            "text/plain": [
              "<tensorflow.python.keras.callbacks.History at 0x7fca2dec9b00>"
            ]
          },
          "metadata": {
            "tags": []
          },
          "execution_count": 54
        }
      ]
    },
    {
      "cell_type": "code",
      "metadata": {
        "id": "bivwvYBxs-4J",
        "colab_type": "code",
        "colab": {
          "base_uri": "https://localhost:8080/",
          "height": 50
        },
        "outputId": "2a89a4aa-fb04-4f94-c38a-4f177edd4574"
      },
      "source": [
        "# evaluate the model\n",
        "test_loss, test_acc = model.evaluate(X_test, Y_test)\n",
        "print('Test Accuracy:', test_acc)"
      ],
      "execution_count": 55,
      "outputs": [
        {
          "output_type": "stream",
          "text": [
            "313/313 [==============================] - 0s 1ms/step - loss: 0.2775 - accuracy: 0.9224\n",
            "Test Accuracy: 0.9223999977111816\n"
          ],
          "name": "stdout"
        }
      ]
    },
    {
      "cell_type": "code",
      "metadata": {
        "id": "x9GMX7CZtfLc",
        "colab_type": "code",
        "colab": {}
      },
      "source": [
        ""
      ],
      "execution_count": null,
      "outputs": []
    }
  ]
}